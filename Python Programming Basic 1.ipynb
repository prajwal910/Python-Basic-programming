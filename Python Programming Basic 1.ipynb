{
 "cells": [
  {
   "cell_type": "markdown",
   "id": "5f390066",
   "metadata": {},
   "source": [
    "1. Write a Python program to print &quot;Hello Python&quot;?"
   ]
  },
  {
   "cell_type": "code",
   "execution_count": 1,
   "id": "d35521a4",
   "metadata": {},
   "outputs": [
    {
     "name": "stdout",
     "output_type": "stream",
     "text": [
      "Hello Python\n"
     ]
    }
   ],
   "source": [
    "print(\"Hello Python\")"
   ]
  },
  {
   "cell_type": "markdown",
   "id": "5c2089b3",
   "metadata": {},
   "source": [
    "2. Write a Python program to do arithmetical operations addition and division.?"
   ]
  },
  {
   "cell_type": "code",
   "execution_count": 3,
   "id": "28f2aa5c",
   "metadata": {},
   "outputs": [
    {
     "name": "stdout",
     "output_type": "stream",
     "text": [
      "Enter num1\n",
      "2\n",
      "Enter num2\n",
      "3\n",
      "Addition of two num is 5\n",
      "Multiplication of two num is 6\n"
     ]
    }
   ],
   "source": [
    "a=int(input(\"Enter num1\\n\"))\n",
    "b=int(input(\"Enter num2\\n\"))\n",
    "\n",
    "add=a+b\n",
    "mul=a*b\n",
    "\n",
    "print(f\"Addition of two num is {add}\")\n",
    "print(f\"Multiplication of two num is {mul}\")"
   ]
  },
  {
   "cell_type": "markdown",
   "id": "0d48fb27",
   "metadata": {},
   "source": [
    "3. Write a Python program to find the area of a triangle?"
   ]
  },
  {
   "cell_type": "code",
   "execution_count": 3,
   "id": "a29b9e5f",
   "metadata": {},
   "outputs": [
    {
     "name": "stdout",
     "output_type": "stream",
     "text": [
      "Enter height\n",
      "4\n",
      "Enter breadth\n",
      "5\n",
      "Area of triangle is 10.0\n"
     ]
    }
   ],
   "source": [
    "a=int(input(\"Enter height\\n\"))\n",
    "b=int(input(\"Enter breadth\\n\"))\n",
    "\n",
    "area=.5*a*b\n",
    "\n",
    "print(f\"Area of triangle is {area}\")"
   ]
  },
  {
   "cell_type": "markdown",
   "id": "024c95ad",
   "metadata": {},
   "source": [
    "4. Write a Python program to swap two variables?"
   ]
  },
  {
   "cell_type": "code",
   "execution_count": 6,
   "id": "b24d7818",
   "metadata": {},
   "outputs": [
    {
     "name": "stdout",
     "output_type": "stream",
     "text": [
      "Enter variable 1\n",
      "4\n",
      "Enter variable 2\n",
      "5\n",
      "after swap: First variable now is 5 and second variable now is 4\n"
     ]
    }
   ],
   "source": [
    "a=int(input(\"Enter variable 1\\n\"))\n",
    "b=int(input(\"Enter variable 2\\n\"))\n",
    "\n",
    "a,b=b,a\n",
    "\n",
    "print(f\"after swap: First variable now is {a} and second variable now is {b}\")"
   ]
  },
  {
   "cell_type": "markdown",
   "id": "a958c56f",
   "metadata": {},
   "source": [
    "5. Write a Python program to generate a random number?"
   ]
  },
  {
   "cell_type": "code",
   "execution_count": 8,
   "id": "e0d337a6",
   "metadata": {},
   "outputs": [
    {
     "name": "stdout",
     "output_type": "stream",
     "text": [
      "6\n"
     ]
    }
   ],
   "source": [
    "import random\n",
    "print(random.randint(1,9))"
   ]
  },
  {
   "cell_type": "code",
   "execution_count": null,
   "id": "0c53c2d3",
   "metadata": {},
   "outputs": [],
   "source": []
  }
 ],
 "metadata": {
  "kernelspec": {
   "display_name": "Python 3 (ipykernel)",
   "language": "python",
   "name": "python3"
  },
  "language_info": {
   "codemirror_mode": {
    "name": "ipython",
    "version": 3
   },
   "file_extension": ".py",
   "mimetype": "text/x-python",
   "name": "python",
   "nbconvert_exporter": "python",
   "pygments_lexer": "ipython3",
   "version": "3.11.5"
  }
 },
 "nbformat": 4,
 "nbformat_minor": 5
}
