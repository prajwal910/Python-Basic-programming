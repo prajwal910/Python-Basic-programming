{
 "cells": [
  {
   "cell_type": "markdown",
   "id": "50660965",
   "metadata": {},
   "source": [
    "1. Write a Python program to Extract Unique values dictionary values?"
   ]
  },
  {
   "cell_type": "code",
   "execution_count": 2,
   "id": "6af0602e",
   "metadata": {},
   "outputs": [
    {
     "name": "stdout",
     "output_type": "stream",
     "text": [
      "{0, 3, 5, 7, 8, 11, 12, 77, 22, 89, 90, 31, 63}\n"
     ]
    }
   ],
   "source": [
    "dict={'a' : [5,3,8, 0],\n",
    "   'b' : [22, 5, 63, 77],\n",
    "   'c' : [7, 0, 22],\n",
    "   'd' : [12, 11, 5],\n",
    "   'e' : [5, 31, 89, 90]}\n",
    "un_val=set([i for val in dict.values() for i in val])\n",
    "print(un_val)"
   ]
  },
  {
   "cell_type": "markdown",
   "id": "f4724699",
   "metadata": {},
   "source": [
    "2. Write a Python program to find the sum of all items in a dictionary?"
   ]
  },
  {
   "cell_type": "code",
   "execution_count": 6,
   "id": "6c6ad9b7",
   "metadata": {},
   "outputs": [
    {
     "name": "stdout",
     "output_type": "stream",
     "text": [
      "20\n"
     ]
    }
   ],
   "source": [
    "dict={'a' : 2,\n",
    "   'b' : 3,\n",
    "   'c' : 4,\n",
    "   'd' : 5,\n",
    "   'e' : 6}\n",
    "\n",
    "sum=0\n",
    "\n",
    "for i in dict.values():\n",
    "    sum+=i\n",
    "print(sum)"
   ]
  },
  {
   "cell_type": "markdown",
   "id": "ead816fe",
   "metadata": {},
   "source": [
    "3. Write a Python program to Merging two Dictionaries?"
   ]
  },
  {
   "cell_type": "code",
   "execution_count": 10,
   "id": "54d6139e",
   "metadata": {},
   "outputs": [
    {
     "name": "stdout",
     "output_type": "stream",
     "text": [
      "{'Actress ': 'Jasmine Wiley', 'Cricketer': 'Nicholas Pooran', 'Basketball': 'Washington', 'Football': 'Zindane', 'Tennis ': 'Maria', 'Stadium  ': 'Amsterdam', 'Actress': 'Elizabeth'}\n"
     ]
    }
   ],
   "source": [
    "d1 = {'Actress ' : 'Jasmine Wiley',       \n",
    "    'Cricketer' : 'Nicholas Pooran',  \n",
    "    'Basketball': 'Jordan',  \n",
    "    'Football' : 'Zindane'  \n",
    "}  \n",
    "  \n",
    "# Defines the d2 dictionary   \n",
    "d2 = {'Tennis ' : 'Maria',  \n",
    "    'Stadium  ' : 'Amsterdam',  \n",
    "    'Basketball' : 'Washington',  \n",
    "    'Actress' : 'Elizabeth'} \n",
    "d1.update(d2)\n",
    "print(d1)"
   ]
  },
  {
   "cell_type": "markdown",
   "id": "0aa9034c",
   "metadata": {},
   "source": [
    "4. Write a Python program to convert key-values list to flat dictionary?"
   ]
  },
  {
   "cell_type": "code",
   "execution_count": 1,
   "id": "6df7a341",
   "metadata": {},
   "outputs": [
    {
     "name": "stdout",
     "output_type": "stream",
     "text": [
      "{1: 'Mon', 2: 'Tues', 3: 'Wed'}\n"
     ]
    }
   ],
   "source": [
    "dict1= { \"day\": [1, 2, 3], \n",
    "      \"name\": ['Mon', 'Tues', 'Wed' ] }\n",
    "\n",
    "result=dict(zip(dict1[\"day\"],dict1[\"name\"]))\n",
    "\n",
    "print(result)"
   ]
  },
  {
   "cell_type": "markdown",
   "id": "2c781a92",
   "metadata": {},
   "source": [
    "5. Write a Python program to insertion at the beginning in OrderedDict?"
   ]
  },
  {
   "cell_type": "code",
   "execution_count": 2,
   "id": "44c1939b",
   "metadata": {},
   "outputs": [
    {
     "name": "stdout",
     "output_type": "stream",
     "text": [
      "OrderedDict([('Jan', 1), ('Feb', '2'), ('Mar', '3')])\n"
     ]
    }
   ],
   "source": [
    "from collections import OrderedDict\n",
    "\n",
    "dict1=OrderedDict([('Feb', '2'), ('Mar', '3')])\n",
    "\n",
    "dict1.update({\"Jan\":1})\n",
    "dict1.move_to_end(\"Jan\", last=False)\n",
    "\n",
    "print(dict1)"
   ]
  },
  {
   "cell_type": "markdown",
   "id": "52ff265d",
   "metadata": {},
   "source": [
    "6. Write a Python program to check order of character in string using OrderedDict()?"
   ]
  },
  {
   "cell_type": "code",
   "execution_count": 3,
   "id": "710b01a1",
   "metadata": {},
   "outputs": [
    {
     "name": "stdout",
     "output_type": "stream",
     "text": [
      "enter string : Prajwal\n",
      "Enter Pattern : a\n",
      "OrderedDict([('P', None), ('r', None), ('a', None), ('j', None), ('w', None), ('l', None)])\n",
      "Pattern matched\n"
     ]
    }
   ],
   "source": [
    "from collections import OrderedDict \n",
    "  \n",
    "def checkOrderofString(str, pattern): \n",
    "      \n",
    "    # create empty OrderedDict \n",
    "    dict = OrderedDict.fromkeys(str) \n",
    "    print(dict)   \n",
    "    ptrlen = 0\n",
    "    for key,value in dict.items(): \n",
    "        \n",
    "        if (key == pattern[ptrlen]): \n",
    "            ptrlen = ptrlen + 1\n",
    "          \n",
    "        # check if we have traverse complete pattern string \n",
    "        if (ptrlen == (len(pattern))):            \n",
    "            return 'true'\n",
    "  \n",
    "    # if we come out from for loop that means order was mismatched \n",
    "    return 'false'\n",
    "  \n",
    "\n",
    "string = input(\"enter string : \")\n",
    "pattern = input(\"Enter Pattern : \")\n",
    "if checkOrderofString(string,pattern):\n",
    "    print(\"Pattern matched\")\n",
    "else:\n",
    "    print(\"Pattern not matched\")"
   ]
  },
  {
   "cell_type": "markdown",
   "id": "878cfe2b",
   "metadata": {},
   "source": [
    "7. Write a Python program to sort Python Dictionaries by Key or Value?"
   ]
  },
  {
   "cell_type": "code",
   "execution_count": 11,
   "id": "315dac0d",
   "metadata": {},
   "outputs": [
    {
     "name": "stdout",
     "output_type": "stream",
     "text": [
      "Printing by Key sorted['d', 'p', 'r', 'w', 'y']\n",
      "Printing by Key values[2, 9, 10, 15, 32]\n",
      "Printing by Key items[('d', 10), ('p', 32), ('r', 9), ('w', 15), ('y', 2)]\n"
     ]
    }
   ],
   "source": [
    "dict1 = {'d': 10, 'r': 9,\n",
    "        'w': 15, 'y': 2, 'p': 32}\n",
    "\n",
    "\n",
    "print(f\"Printing by Key sorted{sorted(dict1.keys())}\")\n",
    "print(f\"Printing by Key values{sorted(dict1.values())}\")\n",
    "print(f\"Printing by Key items{sorted(dict1.items())}\")"
   ]
  },
  {
   "cell_type": "code",
   "execution_count": null,
   "id": "a3ab7ce1",
   "metadata": {},
   "outputs": [],
   "source": []
  }
 ],
 "metadata": {
  "kernelspec": {
   "display_name": "Python 3 (ipykernel)",
   "language": "python",
   "name": "python3"
  },
  "language_info": {
   "codemirror_mode": {
    "name": "ipython",
    "version": 3
   },
   "file_extension": ".py",
   "mimetype": "text/x-python",
   "name": "python",
   "nbconvert_exporter": "python",
   "pygments_lexer": "ipython3",
   "version": "3.11.5"
  }
 },
 "nbformat": 4,
 "nbformat_minor": 5
}
