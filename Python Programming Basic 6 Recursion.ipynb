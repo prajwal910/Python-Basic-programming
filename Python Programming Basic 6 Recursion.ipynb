{
 "cells": [
  {
   "cell_type": "markdown",
   "id": "40dcb748",
   "metadata": {},
   "source": [
    "1. Write a Python Program to Display Fibonacci Sequence Using Recursion?"
   ]
  },
  {
   "cell_type": "code",
   "execution_count": 2,
   "id": "5de74f97",
   "metadata": {},
   "outputs": [
    {
     "name": "stdout",
     "output_type": "stream",
     "text": [
      "input no : 5\n",
      "0 1 1 2 3 "
     ]
    }
   ],
   "source": [
    "def recursive_fuc(n):\n",
    "    if n<=1:\n",
    "        return n\n",
    "    else:\n",
    "        return recursive_fuc(n-1)+recursive_fuc(n-2)\n",
    "    \n",
    "num = int(input(\"input no : \"))\n",
    "\n",
    "if num <=0:\n",
    "    print(\"Please provide positive no.\")\n",
    "\n",
    "else:\n",
    "    for i in range(num):\n",
    "        print(recursive_fuc(i) , end=\" \")"
   ]
  },
  {
   "cell_type": "markdown",
   "id": "c46777fb",
   "metadata": {},
   "source": [
    "2. Write a Python Program to Find Factorial of Number Using Recursion?"
   ]
  },
  {
   "cell_type": "code",
   "execution_count": 4,
   "id": "d2e205a8",
   "metadata": {},
   "outputs": [
    {
     "name": "stdout",
     "output_type": "stream",
     "text": [
      "input a no : 5\n",
      "Factorial of number 5 = 120\n"
     ]
    }
   ],
   "source": [
    "def Factorial_recursion(n):\n",
    "    if n<=1:\n",
    "        return n\n",
    "    else:\n",
    "        return n * Factorial_recursion(n-1)\n",
    "    \n",
    "num = int(input(\"input a no : \"))\n",
    "    # check if the input is valid or not\n",
    "if num < 0:\n",
    "    print(\"Invalid input ! Please enter a positive number.\")\n",
    "elif num == 0:\n",
    "    print(\"Factorial of number 0 is 1\")\n",
    "else:\n",
    "    print(\"Factorial of number\", num, \"=\", Factorial_recursion(num))"
   ]
  },
  {
   "cell_type": "markdown",
   "id": "3d636361",
   "metadata": {},
   "source": [
    "3. Write a Python Program to calculate your Body Mass Index?"
   ]
  },
  {
   "cell_type": "code",
   "execution_count": 17,
   "id": "caed1d51",
   "metadata": {},
   "outputs": [
    {
     "name": "stdout",
     "output_type": "stream",
     "text": [
      "enter your height in feet : 5.8\n",
      "enter your weight in kilo : 78\n",
      "The BIM is =  2.318668252080856\n"
     ]
    }
   ],
   "source": [
    "height = float(input(\"enter your height in feet : \"))\n",
    "weight = float(input(\"enter your weight in kilo : \"))\n",
    "\n",
    "bmi = weight/(height**2)\n",
    "\n",
    "print(\"The BIM is = \",bmi)"
   ]
  },
  {
   "cell_type": "markdown",
   "id": "1b2dfb2b",
   "metadata": {},
   "source": [
    "4. Write a Python Program to calculate the natural logarithm of any number?"
   ]
  },
  {
   "cell_type": "code",
   "execution_count": 19,
   "id": "53ef0392",
   "metadata": {},
   "outputs": [
    {
     "name": "stdout",
     "output_type": "stream",
     "text": [
      "Enter the num\n",
      "5\n",
      "logarithm of 5 number is 1.6094379124341003\n"
     ]
    }
   ],
   "source": [
    "import math\n",
    "x=int(input(\"Enter the num\\n\"))\n",
    "\n",
    "num=math.log(x)\n",
    "print(f\"logarithm of {x} number is {num}\")"
   ]
  },
  {
   "cell_type": "markdown",
   "id": "01042a1b",
   "metadata": {},
   "source": [
    "5. Write a Python Program for cube sum of first n natural numbers?"
   ]
  },
  {
   "cell_type": "code",
   "execution_count": 20,
   "id": "31f1390d",
   "metadata": {},
   "outputs": [
    {
     "name": "stdout",
     "output_type": "stream",
     "text": [
      "Enter a no :3\n",
      "Cube sum of 3 natural numbers is 36\n"
     ]
    }
   ],
   "source": [
    "num = int(input(\"Enter a no :\"))\n",
    "sum = 0\n",
    "for i in range(1 , num+1):\n",
    "    sum = sum + i**3\n",
    "print(\"Cube sum of {} natural numbers is {}\".format(num,sum))  "
   ]
  },
  {
   "cell_type": "code",
   "execution_count": null,
   "id": "a7ece393",
   "metadata": {},
   "outputs": [],
   "source": []
  }
 ],
 "metadata": {
  "kernelspec": {
   "display_name": "Python 3 (ipykernel)",
   "language": "python",
   "name": "python3"
  },
  "language_info": {
   "codemirror_mode": {
    "name": "ipython",
    "version": 3
   },
   "file_extension": ".py",
   "mimetype": "text/x-python",
   "name": "python",
   "nbconvert_exporter": "python",
   "pygments_lexer": "ipython3",
   "version": "3.11.5"
  }
 },
 "nbformat": 4,
 "nbformat_minor": 5
}
