{
 "cells": [
  {
   "cell_type": "markdown",
   "id": "ccc02d01",
   "metadata": {},
   "source": [
    "1. Please write a program using generator to print the numbers which can be divisible by 5 and\n",
    "\n",
    "7 between 0 and n in comma separated form while n is input by console. Example: If the following n is given as input to the program: 100 Then, the output of the program should be: 0,35,70"
   ]
  },
  {
   "cell_type": "code",
   "execution_count": 4,
   "id": "b7060f5c",
   "metadata": {},
   "outputs": [
    {
     "name": "stdout",
     "output_type": "stream",
     "text": [
      "Enter the num: 100\n",
      "0,35,70\n"
     ]
    }
   ],
   "source": [
    "def NumGen(n):\n",
    "    for i in range(n+1):\n",
    "        if i%5==0 and i%7==0:\n",
    "            yield i\n",
    "            \n",
    "n=int(input(\"Enter the num: \"))\n",
    "lst=[]\n",
    "\n",
    "for i in NumGen(n):\n",
    "    lst.append(str(i))\n",
    "    \n",
    "print(\",\".join(lst))"
   ]
  },
  {
   "cell_type": "markdown",
   "id": "bec39385",
   "metadata": {},
   "source": [
    "2. Please write a program using generator to print the even numbers between 0 and n in comma\n",
    "\n",
    "separated form while n is input by console. Example: If the following n is given as input to the program: 10 Then, the output of the program should be: 0,2,4,6,8,10"
   ]
  },
  {
   "cell_type": "code",
   "execution_count": 5,
   "id": "16496a90",
   "metadata": {},
   "outputs": [
    {
     "name": "stdout",
     "output_type": "stream",
     "text": [
      "Enter the range: 10\n",
      "0,2,4,6,8,10\n"
     ]
    }
   ],
   "source": [
    "def EvenGen(n):\n",
    "    for i in range(n+1):\n",
    "        if i%2==0:\n",
    "            yield i\n",
    "            \n",
    "n=int(input(\"Enter the range: \"))\n",
    "lst=[]\n",
    "\n",
    "for i in EvenGen(n):\n",
    "    lst.append(str(i))\n",
    "\n",
    "print(\",\".join(lst))"
   ]
  },
  {
   "cell_type": "markdown",
   "id": "e59191bf",
   "metadata": {},
   "source": [
    "The Fibonacci Sequence is computed based on the following formula:\n",
    "\n",
    "f(n)=0 if n=0 f(n)=1 if n=1 f(n)=f(n-1)+f(n-2) if n > 1 Please write a program using list comprehension to print the Fibonacci Sequence in comma separated form with a given n input by console. Example: If the following n is given as input to the program: 7\n",
    "\n",
    "Then, the output of the program should be: 0,1,1,2,3,5,8,13"
   ]
  },
  {
   "cell_type": "code",
   "execution_count": 6,
   "id": "f0a4be70",
   "metadata": {},
   "outputs": [
    {
     "name": "stdout",
     "output_type": "stream",
     "text": [
      "Enter a number :7\n",
      "0,1,1,2,3,5,8,13\n"
     ]
    }
   ],
   "source": [
    "def fib(n):    \n",
    "    if n == 0: \n",
    "            return 0    \n",
    "    elif n == 1: \n",
    "            return 1    \n",
    "    else: \n",
    "            return fib(n-1)+fib(n-2)\n",
    "n=int(input('Enter a number :')) \n",
    "values = [str(fib(x)) for x in range(0, n+1)] \n",
    "print(\",\".join(values))"
   ]
  },
  {
   "cell_type": "markdown",
   "id": "d0ac7282",
   "metadata": {},
   "source": [
    "4.  Assuming that we have some email addresses in the 'username@companyname.com' format,\n",
    "\n",
    "please write program to print the user name of a given email address. Both user names and company names are composed of letters only. Example: If the following email address is given as input to the program: john@google.com Then, the output of the program should be: john"
   ]
  },
  {
   "cell_type": "code",
   "execution_count": 10,
   "id": "1e3a1317",
   "metadata": {},
   "outputs": [
    {
     "name": "stdout",
     "output_type": "stream",
     "text": [
      "Enter the email: john@google.com\n",
      "Username: john\n",
      "company: google\n"
     ]
    }
   ],
   "source": [
    "email=input(\"Enter the email: \")\n",
    "user=email.split(\"@\")\n",
    "company=user[1].split(\".\")\n",
    "\n",
    "print(f\"Username: {user[0]}\")\n",
    "print(f\"company: {company[0]}\")"
   ]
  },
  {
   "cell_type": "markdown",
   "id": "63b61295",
   "metadata": {},
   "source": [
    "6. Define a class named Shape and its subclass Square. The Square class has an init function\n",
    "\n",
    "which takes a length as argument. Both classes have a area function which can print the area of the shape where Shape's area is 0 by default."
   ]
  },
  {
   "cell_type": "code",
   "execution_count": 11,
   "id": "0de98153",
   "metadata": {},
   "outputs": [],
   "source": [
    "class Shape():\n",
    "    def __init__(self):\n",
    "        pass\n",
    "    def area(self):\n",
    "        return 0\n",
    "    \n",
    "class Square(Shape):\n",
    "    def __init__(self,l):\n",
    "        self.length=l\n",
    "    \n",
    "    def area(self):\n",
    "        a= self.length * self.length\n",
    "        return a"
   ]
  },
  {
   "cell_type": "code",
   "execution_count": 14,
   "id": "08b5a2fb",
   "metadata": {},
   "outputs": [
    {
     "data": {
      "text/plain": [
       "16"
      ]
     },
     "execution_count": 14,
     "metadata": {},
     "output_type": "execute_result"
    }
   ],
   "source": [
    "obj=Square(4)\n",
    "obj.area()"
   ]
  },
  {
   "cell_type": "code",
   "execution_count": null,
   "id": "52de52ed",
   "metadata": {},
   "outputs": [],
   "source": []
  }
 ],
 "metadata": {
  "kernelspec": {
   "display_name": "Python 3 (ipykernel)",
   "language": "python",
   "name": "python3"
  },
  "language_info": {
   "codemirror_mode": {
    "name": "ipython",
    "version": 3
   },
   "file_extension": ".py",
   "mimetype": "text/x-python",
   "name": "python",
   "nbconvert_exporter": "python",
   "pygments_lexer": "ipython3",
   "version": "3.11.5"
  }
 },
 "nbformat": 4,
 "nbformat_minor": 5
}
