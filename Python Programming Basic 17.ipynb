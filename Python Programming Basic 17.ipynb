{
 "cells": [
  {
   "cell_type": "markdown",
   "id": "21cb9536",
   "metadata": {},
   "source": [
    "1. Create a function that takes three arguments a, b, c and returns the sum of the numbers that are evenly divided by c from the range a, b inclusive. \n",
    "Examples evenly_divisible(1, 10, 20) ➞ 0 No number between 1 and 10 can be evenly divided by 20. evenly_divisible(1, 10, 2) ➞ 30 2 + 4 + 6 + 8 + 10 = 30 evenly_divisible(1, 10, 3) ➞ 18 3 + 6 + 9 = 18"
   ]
  },
  {
   "cell_type": "code",
   "execution_count": 9,
   "id": "fc5c7180",
   "metadata": {},
   "outputs": [
    {
     "name": "stdout",
     "output_type": "stream",
     "text": [
      "Enter a : 1\n",
      "Enter b : 10\n",
      "Enter c : 2\n",
      "30\n"
     ]
    }
   ],
   "source": [
    "\n",
    "def abc(a, b, c):     \n",
    "    sum = 0\n",
    "    for i in range(a, b + 1): \n",
    "        if (i % c == 0):\n",
    "            sum += i \n",
    "    return sum\n",
    "a = int(input('Enter a : '))\n",
    "b = int(input('Enter b : '))\n",
    "c = int(input('Enter c : '))\n",
    "print(abc(a, b, c))\n",
    "     "
   ]
  },
  {
   "cell_type": "markdown",
   "id": "df8032e8",
   "metadata": {},
   "source": [
    "2. Create a function that returns True if a given inequality expression is correct and\n",
    "False otherwise. Examples correct_signs(\"3 > 7 < 11\") ➞ True correct_signs(\"13 > 44 > 33 > 1\") ➞ False correct_signs(\"1 < 2 < 6 < 9 > 3\") ➞ True"
   ]
  },
  {
   "cell_type": "code",
   "execution_count": 11,
   "id": "d1f8ea7f",
   "metadata": {},
   "outputs": [
    {
     "name": "stdout",
     "output_type": "stream",
     "text": [
      "False\n",
      "False\n",
      "True\n"
     ]
    }
   ],
   "source": [
    "def check(a):\n",
    "    return eval (a)\n",
    "\n",
    "print(check(\"3 > 7 < 11\"))\n",
    "print(check(\"13 > 44 > 33 > 1\"))\n",
    "print(check(\"1 < 2 < 6 < 9 > 3\"))"
   ]
  },
  {
   "cell_type": "markdown",
   "id": "2b8fe536",
   "metadata": {},
   "source": [
    "3. Create a function that replaces all the vowels in a string with a specified character.\n",
    "\n",
    "Examples replace_vowels('the aardvark, '#') ➞ 'th# ##rdv#rk' replace_vowels('minnie mouse', '?') ➞ 'm?nn?? m??s?' replace_vowels('shakespeare', '') ➞ 'shkspr'"
   ]
  },
  {
   "cell_type": "code",
   "execution_count": 12,
   "id": "54a34cc1",
   "metadata": {},
   "outputs": [
    {
     "name": "stdout",
     "output_type": "stream",
     "text": [
      "Enter the string the aardvark\n",
      "Vowel to replace*\n",
      "th* **rdv*rk\n"
     ]
    }
   ],
   "source": [
    "def rep_vow(a,b):\n",
    "    vowel='AEIOUaeiou'\n",
    "    for i in vowel:\n",
    "        a=a.replace(i, b)\n",
    "    return a\n",
    "\n",
    "X=input(\"Enter the string \")\n",
    "y=input(\"Vowel to replace \")\n",
    "\n",
    "print(rep_vow(X,y))"
   ]
  },
  {
   "cell_type": "markdown",
   "id": "74659c5b",
   "metadata": {},
   "source": [
    "4. Write a function that calculates the factorial of a number recursively.\n",
    "\n",
    "Examples factorial(5) ➞ 120 factorial(3) ➞ 6 factorial(1) ➞ 1 factorial(0) ➞ 1"
   ]
  },
  {
   "cell_type": "code",
   "execution_count": 16,
   "id": "200425c9",
   "metadata": {},
   "outputs": [
    {
     "name": "stdout",
     "output_type": "stream",
     "text": [
      "Enter n 4\n"
     ]
    },
    {
     "data": {
      "text/plain": [
       "24"
      ]
     },
     "execution_count": 16,
     "metadata": {},
     "output_type": "execute_result"
    }
   ],
   "source": [
    "def fact(n):\n",
    "    if n==0:\n",
    "        return 1\n",
    "    return n * fact(n-1)\n",
    "\n",
    "n=int(input(\"Enter n \"))\n",
    "\n",
    "fact(n)"
   ]
  },
  {
   "cell_type": "markdown",
   "id": "744224df",
   "metadata": {},
   "source": [
    "5. Hamming distance is the number of characters that differ between two strings.\n",
    "\n",
    "To illustrate: String1: 'abcbba' String2: 'abcbda' Hamming Distance: 1 - 'b' vs. 'd' is the only difference. Create a function that computes the hamming distance between two strings. Examples hamming_distance('abcde', 'bcdef') ➞ 5 hamming_distance('abcde', 'abcde') ➞ 0 hamming_distance('strong', 'strung') ➞ 1"
   ]
  },
  {
   "cell_type": "code",
   "execution_count": 22,
   "id": "773bb138",
   "metadata": {},
   "outputs": [
    {
     "name": "stdout",
     "output_type": "stream",
     "text": [
      "Enter string 1 strong\n",
      "Enter string 2 strokk\n"
     ]
    },
    {
     "data": {
      "text/plain": [
       "2"
      ]
     },
     "execution_count": 22,
     "metadata": {},
     "output_type": "execute_result"
    }
   ],
   "source": [
    "def ham_dist(a,b):\n",
    "    flag=0\n",
    "    for i in range (len(a)):\n",
    "        if a[i]!=b[i]:\n",
    "            flag+=1\n",
    "    return flag\n",
    "\n",
    "x=input(\"Enter string 1 \")\n",
    "y=input(\"Enter string 2 \")\n",
    "\n",
    "ham_dist(x,y)"
   ]
  },
  {
   "cell_type": "code",
   "execution_count": null,
   "id": "a67c9442",
   "metadata": {},
   "outputs": [],
   "source": []
  }
 ],
 "metadata": {
  "kernelspec": {
   "display_name": "Python 3 (ipykernel)",
   "language": "python",
   "name": "python3"
  },
  "language_info": {
   "codemirror_mode": {
    "name": "ipython",
    "version": 3
   },
   "file_extension": ".py",
   "mimetype": "text/x-python",
   "name": "python",
   "nbconvert_exporter": "python",
   "pygments_lexer": "ipython3",
   "version": "3.11.5"
  }
 },
 "nbformat": 4,
 "nbformat_minor": 5
}
