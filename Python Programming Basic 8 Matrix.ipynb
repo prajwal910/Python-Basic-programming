{
 "cells": [
  {
   "cell_type": "markdown",
   "id": "9503dcc5",
   "metadata": {},
   "source": [
    "1. Write a Python Program to Add Two Matrices?"
   ]
  },
  {
   "cell_type": "code",
   "execution_count": 6,
   "id": "9247469f",
   "metadata": {},
   "outputs": [
    {
     "name": "stdout",
     "output_type": "stream",
     "text": [
      "[10, 10, 10]\n",
      "[10, 10, 10]\n",
      "[10, 10, 10]\n"
     ]
    }
   ],
   "source": [
    "X = [[1, 2, 3],[4, 5, 6], [7, 8, 9]]\n",
    "Y = [[9, 8, 7], [6, 5, 4], [3, 2, 1]]\n",
    "\n",
    "\n",
    "result = [[0, 0, 0], \n",
    "          [0, 0, 0], \n",
    "          [0, 0, 0]]\n",
    "\n",
    "for row in range(len(X)):\n",
    "    for column in range(len(X[0])):\n",
    "        result[row][column] =X[row][column]+Y[row][column]\n",
    "        \n",
    "for r in result:\n",
    "    print(r)"
   ]
  },
  {
   "cell_type": "markdown",
   "id": "777aaa0c",
   "metadata": {},
   "source": [
    "2. Write a Python Program to Multiply Two Matrices?"
   ]
  },
  {
   "cell_type": "code",
   "execution_count": 7,
   "id": "21e5a0f2",
   "metadata": {},
   "outputs": [
    {
     "name": "stdout",
     "output_type": "stream",
     "text": [
      "[9, 16, 21]\n",
      "[24, 25, 24]\n",
      "[21, 16, 9]\n"
     ]
    }
   ],
   "source": [
    "X = [[1, 2, 3],[4, 5, 6], [7, 8, 9]]\n",
    "Y = [[9, 8, 7], [6, 5, 4], [3, 2, 1]]\n",
    "\n",
    "\n",
    "result = [[0, 0, 0], \n",
    "          [0, 0, 0], \n",
    "          [0, 0, 0]]\n",
    "\n",
    "for row in range(len(X)):\n",
    "    for column in range(len(X[0])):\n",
    "        result[row][column] = X[row][column] * Y[row][column]\n",
    "        \n",
    "for r in result:\n",
    "    print(r)"
   ]
  },
  {
   "cell_type": "markdown",
   "id": "e9861863",
   "metadata": {},
   "source": [
    "3. Write a Python Program to Transpose a Matrix?"
   ]
  },
  {
   "cell_type": "code",
   "execution_count": 13,
   "id": "0e9ad606",
   "metadata": {},
   "outputs": [
    {
     "name": "stdout",
     "output_type": "stream",
     "text": [
      "[1, 4, 7]\n",
      "[2, 5, 8]\n",
      "[3, 6, 9]\n"
     ]
    }
   ],
   "source": [
    "X = [[1, 2, 3],\n",
    "     [4, 5, 6], \n",
    "     [7, 8, 9]]\n",
    "\n",
    "result = [[0, 0, 0], \n",
    "          [0, 0, 0], \n",
    "          [0, 0, 0]]\n",
    "\n",
    "for row in range(len(X)):\n",
    "    for column in range(len(X[0])):\n",
    "        result[column][row] = X[row][column]\n",
    "    \n",
    "for r in result:\n",
    "    print(r)"
   ]
  },
  {
   "cell_type": "markdown",
   "id": "3343275b",
   "metadata": {},
   "source": [
    "4. Write a Python Program to Sort Words in Alphabetic Order?"
   ]
  },
  {
   "cell_type": "code",
   "execution_count": 18,
   "id": "650b79d8",
   "metadata": {},
   "outputs": [
    {
     "name": "stdout",
     "output_type": "stream",
     "text": [
      "Enter the sentence\n",
      "Write a Python Program to Sort Words in Alphabetic Order\n",
      "sorted\n",
      "\n",
      "a\n",
      "alphabetic\n",
      "in\n",
      "order\n",
      "program\n",
      "python\n",
      "sort\n",
      "to\n",
      "words\n",
      "write\n"
     ]
    }
   ],
   "source": [
    "sent=input(\"Enter the sentence\\n\")\n",
    "words=sent.lower().split()\n",
    "words.sort()\n",
    "\n",
    "print(\"sorted\\n\")\n",
    "for r in words:\n",
    "    print(r)\n"
   ]
  },
  {
   "cell_type": "markdown",
   "id": "af015457",
   "metadata": {},
   "source": [
    "5. Write a Python Program to Remove Punctuation From a String?"
   ]
  },
  {
   "cell_type": "code",
   "execution_count": 20,
   "id": "67879251",
   "metadata": {},
   "outputs": [
    {
     "name": "stdout",
     "output_type": "stream",
     "text": [
      "Enter the sentenceempty_string!\n"
     ]
    },
    {
     "ename": "TypeError",
     "evalue": "'in <string>' requires string as left operand, not int",
     "output_type": "error",
     "traceback": [
      "\u001b[1;31m---------------------------------------------------------------------------\u001b[0m",
      "\u001b[1;31mTypeError\u001b[0m                                 Traceback (most recent call last)",
      "Cell \u001b[1;32mIn[20], line 7\u001b[0m\n\u001b[0;32m      4\u001b[0m empty_string\u001b[38;5;241m=\u001b[39m\u001b[38;5;124m\"\u001b[39m\u001b[38;5;124m\"\u001b[39m\n\u001b[0;32m      6\u001b[0m \u001b[38;5;28;01mfor\u001b[39;00m i \u001b[38;5;129;01min\u001b[39;00m \u001b[38;5;28mrange\u001b[39m(\u001b[38;5;28mlen\u001b[39m(word)):\n\u001b[1;32m----> 7\u001b[0m     \u001b[38;5;28;01mif\u001b[39;00m i \u001b[38;5;129;01mnot\u001b[39;00m \u001b[38;5;129;01min\u001b[39;00m punctuations:\n\u001b[0;32m      8\u001b[0m         empty_string \u001b[38;5;241m=\u001b[39m empty_string \u001b[38;5;241m+\u001b[39m i\n\u001b[0;32m     10\u001b[0m \u001b[38;5;28mprint\u001b[39m(empty_string)\n",
      "\u001b[1;31mTypeError\u001b[0m: 'in <string>' requires string as left operand, not int"
     ]
    }
   ],
   "source": [
    "punctuations = '''!()-[]{};:'\"\\,<>./?@#$%^&*_~'''\n",
    "word=input(\"Enter the sentence\")\n",
    "\n",
    "empty_string=\"\"\n",
    "\n",
    "for i in range(len(word)):\n",
    "    if i not in punctuations:\n",
    "        empty_string = empty_string + i\n",
    "        \n",
    "print(empty_string)"
   ]
  },
  {
   "cell_type": "code",
   "execution_count": null,
   "id": "c872d840",
   "metadata": {},
   "outputs": [],
   "source": []
  }
 ],
 "metadata": {
  "kernelspec": {
   "display_name": "Python 3 (ipykernel)",
   "language": "python",
   "name": "python3"
  },
  "language_info": {
   "codemirror_mode": {
    "name": "ipython",
    "version": 3
   },
   "file_extension": ".py",
   "mimetype": "text/x-python",
   "name": "python",
   "nbconvert_exporter": "python",
   "pygments_lexer": "ipython3",
   "version": "3.11.5"
  }
 },
 "nbformat": 4,
 "nbformat_minor": 5
}
