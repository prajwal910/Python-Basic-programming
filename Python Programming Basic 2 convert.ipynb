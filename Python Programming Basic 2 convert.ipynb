{
 "cells": [
  {
   "cell_type": "markdown",
   "id": "5099a985",
   "metadata": {},
   "source": [
    "1. Write a Python program to convert kilometers to miles?"
   ]
  },
  {
   "cell_type": "code",
   "execution_count": 1,
   "id": "88c12ae8",
   "metadata": {},
   "outputs": [
    {
     "name": "stdout",
     "output_type": "stream",
     "text": [
      "Enter the Kilometer2\n",
      " 2 Kilometers = 1.24 miles\n"
     ]
    }
   ],
   "source": [
    "a=int(input(\"Enter the Kilometer\"))\n",
    "\n",
    "miles=.62*a\n",
    "\n",
    "print(f\" {a} Kilometers = {miles} miles\")"
   ]
  },
  {
   "cell_type": "markdown",
   "id": "24b67371",
   "metadata": {},
   "source": [
    "2. Write a Python program to convert Celsius to Fahrenheit?"
   ]
  },
  {
   "cell_type": "code",
   "execution_count": 2,
   "id": "fb24e069",
   "metadata": {},
   "outputs": [
    {
     "name": "stdout",
     "output_type": "stream",
     "text": [
      "Enter the Celsius1\n",
      "1 Celsius = 33.8 Fahrenheit\n"
     ]
    }
   ],
   "source": [
    "a=int(input(\"Enter the Celsius\"))\n",
    "\n",
    "fh= (a* 9/5)+32\n",
    "print(f\"{a} Celsius = {fh} Fahrenheit\")"
   ]
  },
  {
   "cell_type": "markdown",
   "id": "2944f671",
   "metadata": {},
   "source": [
    "3. Write a Python program to display calendar?"
   ]
  },
  {
   "cell_type": "code",
   "execution_count": 6,
   "id": "49ca65b6",
   "metadata": {},
   "outputs": [
    {
     "name": "stdout",
     "output_type": "stream",
     "text": [
      "Enter the year2023\n",
      "Enter the month\n",
      "12\n",
      "   December 2023\n",
      "Mo Tu We Th Fr Sa Su\n",
      "             1  2  3\n",
      " 4  5  6  7  8  9 10\n",
      "11 12 13 14 15 16 17\n",
      "18 19 20 21 22 23 24\n",
      "25 26 27 28 29 30 31\n",
      "\n"
     ]
    }
   ],
   "source": [
    "import calendar\n",
    "\n",
    "yy=int(input(\"Enter the year\"))\n",
    "mm=int(input(\"Enter the month\\n\"))\n",
    "\n",
    "print(calendar.month(yy,mm))"
   ]
  },
  {
   "cell_type": "markdown",
   "id": "e0a00c30",
   "metadata": {},
   "source": [
    "4. Write a Python program to solve quadratic equation?"
   ]
  },
  {
   "cell_type": "code",
   "execution_count": 9,
   "id": "91b2affb",
   "metadata": {},
   "outputs": [
    {
     "name": "stdout",
     "output_type": "stream",
     "text": [
      "Enter a = 1\n",
      "Enter b = 5\n",
      "Enter c = 4\n",
      "(-1+0j) , (-4+0j)\n"
     ]
    }
   ],
   "source": [
    "import cmath\n",
    "a=int(input(\"Enter a = \"))\n",
    "b=int(input(\"Enter b = \"))\n",
    "c=int(input(\"Enter c = \"))\n",
    "discriminant = (b**2)-(4*a*c)\n",
    "sol_one = (-b+cmath.sqrt(discriminant))/(2*a)\n",
    "sol_two = (-b-cmath.sqrt(discriminant))/(2*a)\n",
    "print(sol_one ,\",\", sol_two)"
   ]
  },
  {
   "cell_type": "markdown",
   "id": "e599f59b",
   "metadata": {},
   "source": [
    "5. Write a Python program to swap two variables without temp variable?"
   ]
  },
  {
   "cell_type": "code",
   "execution_count": 10,
   "id": "cafff234",
   "metadata": {},
   "outputs": [
    {
     "name": "stdout",
     "output_type": "stream",
     "text": [
      "Enter variable 1\n",
      "4\n",
      "Enter variable 2\n",
      "5\n",
      "after swap: First variable now is 5 and second variable now is 4\n"
     ]
    }
   ],
   "source": [
    "a=int(input(\"Enter variable 1\\n\"))\n",
    "b=int(input(\"Enter variable 2\\n\"))\n",
    "\n",
    "a,b=b,a\n",
    "\n",
    "print(f\"after swap: First variable now is {a} and second variable now is {b}\")"
   ]
  },
  {
   "cell_type": "code",
   "execution_count": null,
   "id": "4f5f8bf1",
   "metadata": {},
   "outputs": [],
   "source": []
  }
 ],
 "metadata": {
  "kernelspec": {
   "display_name": "Python 3 (ipykernel)",
   "language": "python",
   "name": "python3"
  },
  "language_info": {
   "codemirror_mode": {
    "name": "ipython",
    "version": 3
   },
   "file_extension": ".py",
   "mimetype": "text/x-python",
   "name": "python",
   "nbconvert_exporter": "python",
   "pygments_lexer": "ipython3",
   "version": "3.11.5"
  }
 },
 "nbformat": 4,
 "nbformat_minor": 5
}
