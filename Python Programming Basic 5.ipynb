{
 "cells": [
  {
   "cell_type": "markdown",
   "id": "ac843d37",
   "metadata": {},
   "source": [
    "1. Write a Python Program to Find LCM?"
   ]
  },
  {
   "cell_type": "code",
   "execution_count": 1,
   "id": "7e343338",
   "metadata": {},
   "outputs": [
    {
     "name": "stdout",
     "output_type": "stream",
     "text": [
      "Enter num1 : 3\n",
      "Enter num2 : 4\n",
      "The LCM of 3 and 4 is 12\n"
     ]
    }
   ],
   "source": [
    "x = int(input(\"Enter num1 : \"))\n",
    "y = int(input(\"Enter num2 : \"))\n",
    "\n",
    "# big no.\n",
    "if x > y:\n",
    "    big = x\n",
    "else:\n",
    "    big = y\n",
    "    \n",
    "while(True):\n",
    "    if big % x == 0 and big % y == 0 :\n",
    "        lcm = big\n",
    "        break\n",
    "    big+=1\n",
    "    \n",
    "print(\"The LCM of {} and {} is {}\".format(x,y,lcm))\n",
    "     "
   ]
  },
  {
   "cell_type": "markdown",
   "id": "63f14655",
   "metadata": {},
   "source": [
    "2. Write a Python Program to Find HCF?"
   ]
  },
  {
   "cell_type": "code",
   "execution_count": 2,
   "id": "8ffb9e04",
   "metadata": {},
   "outputs": [
    {
     "name": "stdout",
     "output_type": "stream",
     "text": [
      "Enter num1 : 4\n",
      "Enter num2 : 5\n",
      "The hcf of 4 and 5 is 1\n"
     ]
    }
   ],
   "source": [
    "x = int(input(\"Enter num1 : \"))\n",
    "y = int(input(\"Enter num2 : \"))\n",
    "\n",
    "# big no\n",
    "if x < y:\n",
    "    small = x\n",
    "else:\n",
    "    small = y\n",
    "hcf = 0   \n",
    "for i in range(1,small+1):\n",
    "    if x % i == 0 and y % i == 0 :\n",
    "        hcf = i\n",
    "    \n",
    "print(\"The hcf of {} and {} is {}\".format(x,y,hcf))"
   ]
  },
  {
   "cell_type": "markdown",
   "id": "ea6912cc",
   "metadata": {},
   "source": [
    "3. Write a Python Program to Convert Decimal to Binary, Octal and Hexadecimal?"
   ]
  },
  {
   "cell_type": "code",
   "execution_count": 3,
   "id": "5b3bcb77",
   "metadata": {},
   "outputs": [
    {
     "name": "stdout",
     "output_type": "stream",
     "text": [
      "Enter number :5\n",
      "5 in binary :  0b101\n",
      "5 in Octal :  0o5\n",
      "5 in Hexadecimal :  0x5\n"
     ]
    }
   ],
   "source": [
    "x=int(input(\"Enter number :\"))\n",
    "\n",
    "print(x, \"in binary : \", bin(x))\n",
    "print(x, \"in Octal : \", oct(x))\n",
    "print(x, \"in Hexadecimal : \",hex(x))"
   ]
  },
  {
   "cell_type": "markdown",
   "id": "08f39491",
   "metadata": {},
   "source": [
    "4. Write a Python Program To Find ASCII value of a character?"
   ]
  },
  {
   "cell_type": "code",
   "execution_count": 4,
   "id": "0b539d9e",
   "metadata": {},
   "outputs": [
    {
     "name": "stdout",
     "output_type": "stream",
     "text": [
      "Enter a charecter: 6\n",
      "The ASCII value of '6' is 54\n"
     ]
    }
   ],
   "source": [
    "def ascci_val():\n",
    "    char = str(input(\"Enter a charecter: \"))\n",
    "    print(\"The ASCII value of '\" + char + \"' is\", ord(char))\n",
    "ascci_val()"
   ]
  },
  {
   "cell_type": "markdown",
   "id": "1fb4863d",
   "metadata": {},
   "source": [
    "5. Write a Python Program to Make a Simple Calculator with 4 basic mathematical operations?"
   ]
  },
  {
   "cell_type": "code",
   "execution_count": 6,
   "id": "c8bfa01b",
   "metadata": {},
   "outputs": [
    {
     "name": "stdout",
     "output_type": "stream",
     "text": [
      "Enter the num1\n",
      "5\n",
      "Enter the num2 \n",
      "2\n",
      "Enter + for addition: \n",
      "Enter - for sub: \n",
      "Enter * for Multiplication: \n",
      "Enter / for division: \n",
      "-\n",
      "5.0+2.0 = 3.0\n"
     ]
    }
   ],
   "source": [
    "x=float(input(\"Enter the num1\\n\"))\n",
    "y=float(input(\"Enter the num2 \\n\"))\n",
    "\n",
    "operation=input(\"Enter + for addition: \\nEnter - for sub: \\nEnter * for Multiplication: \\nEnter / for division: \\n\")\n",
    "\n",
    "if operation==\"+\":\n",
    "    print(f\"{x}+{y} = {x+y}\")\n",
    "elif operation==\"-\":\n",
    "    print(f\"{x}+{y} = {x-y}\")\n",
    "elif operation==\"*\":\n",
    "    print(f\"{x}+{y} = {x*y}\")\n",
    "else:\n",
    "    print(f\"{x}+{y} = {x/y}\")"
   ]
  },
  {
   "cell_type": "code",
   "execution_count": null,
   "id": "d4f4c870",
   "metadata": {},
   "outputs": [],
   "source": []
  }
 ],
 "metadata": {
  "kernelspec": {
   "display_name": "Python 3 (ipykernel)",
   "language": "python",
   "name": "python3"
  },
  "language_info": {
   "codemirror_mode": {
    "name": "ipython",
    "version": 3
   },
   "file_extension": ".py",
   "mimetype": "text/x-python",
   "name": "python",
   "nbconvert_exporter": "python",
   "pygments_lexer": "ipython3",
   "version": "3.11.5"
  }
 },
 "nbformat": 4,
 "nbformat_minor": 5
}
