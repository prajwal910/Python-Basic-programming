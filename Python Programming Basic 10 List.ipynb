{
 "cells": [
  {
   "cell_type": "markdown",
   "id": "cfee63d2",
   "metadata": {},
   "source": [
    "1. Write a Python program to find sum of elements in list?"
   ]
  },
  {
   "cell_type": "code",
   "execution_count": 7,
   "id": "41845439",
   "metadata": {
    "scrolled": true
   },
   "outputs": [
    {
     "name": "stdout",
     "output_type": "stream",
     "text": [
      "35\n"
     ]
    }
   ],
   "source": [
    "l=[5, 7, 9, 1, 3, 5, 5]\n",
    "sum=0\n",
    "\n",
    "for i in range(len(l)):\n",
    "    sum=sum+l[i]\n",
    "print(sum)\n",
    "    "
   ]
  },
  {
   "cell_type": "markdown",
   "id": "73d76808",
   "metadata": {},
   "source": [
    "2. Write a Python program to Multiply all numbers in the list?"
   ]
  },
  {
   "cell_type": "code",
   "execution_count": 12,
   "id": "c2f7f059",
   "metadata": {},
   "outputs": [
    {
     "name": "stdout",
     "output_type": "stream",
     "text": [
      "24\n"
     ]
    }
   ],
   "source": [
    "l=[1,2,3,4]\n",
    "mul=1\n",
    "\n",
    "for i in l:\n",
    "    mul=mul*i\n",
    "print(mul)\n",
    "    "
   ]
  },
  {
   "cell_type": "markdown",
   "id": "232d0fac",
   "metadata": {},
   "source": [
    "3. Write a Python program to find smallest number in a list?"
   ]
  },
  {
   "cell_type": "code",
   "execution_count": 21,
   "id": "8f7b890e",
   "metadata": {},
   "outputs": [
    {
     "name": "stdout",
     "output_type": "stream",
     "text": [
      "The List is  [5, 7, 9, 1, 3, 5, 5]\n",
      "The Smallest no. in the list is : 1\n"
     ]
    }
   ],
   "source": [
    "lst=[5, 7, 9, 1, 3, 5, 5]\n",
    "\n",
    "\n",
    "print(\"The List is \",lst)\n",
    "print(\"The Smallest no. in the list is :\",min(lst))\n",
    "        \n"
   ]
  },
  {
   "cell_type": "markdown",
   "id": "0be88202",
   "metadata": {},
   "source": [
    "4. Write a Python program to find largest number in a list?"
   ]
  },
  {
   "cell_type": "code",
   "execution_count": 22,
   "id": "1522e2ef",
   "metadata": {},
   "outputs": [
    {
     "name": "stdout",
     "output_type": "stream",
     "text": [
      "The List is  [5, 7, 9, 1, 3, 5, 5]\n",
      "The Smallest no. in the list is : 9\n"
     ]
    }
   ],
   "source": [
    "lst=[5, 7, 9, 1, 3, 5, 5]\n",
    "\n",
    "\n",
    "print(\"The List is \",lst)\n",
    "print(\"The Smallest no. in the list is :\",max(lst))\n",
    "        "
   ]
  },
  {
   "cell_type": "markdown",
   "id": "9893d3b4",
   "metadata": {},
   "source": [
    "5. Write a Python program to find second largest number in a list?"
   ]
  },
  {
   "cell_type": "code",
   "execution_count": 23,
   "id": "5e7d3f35",
   "metadata": {},
   "outputs": [
    {
     "name": "stdout",
     "output_type": "stream",
     "text": [
      "Enter the num of elements5\n",
      "1\n",
      "100\n",
      "200\n",
      "5\n",
      "60\n",
      "The list elements are [1, 100, 200, 5, 60]\n",
      "List after sorting [1, 5, 60, 100, 200]\n",
      "Second largest element is  100\n"
     ]
    }
   ],
   "source": [
    "n=int(input(\"Enter the num of elements\\n\"))\n",
    "lst=[]\n",
    "\n",
    "for i in range(n):\n",
    "    lst.append(int(input()))\n",
    "print(\"The list elements are\",lst)\n",
    "\n",
    "lst.sort()\n",
    "print(\"List after sorting\",lst)\n",
    "print(\"Second largest element is \",lst[-2])"
   ]
  },
  {
   "cell_type": "markdown",
   "id": "bd2020b3",
   "metadata": {},
   "source": [
    "6. Write a Python program to find N largest elements from a list?"
   ]
  },
  {
   "cell_type": "code",
   "execution_count": 27,
   "id": "df96f08f",
   "metadata": {},
   "outputs": [
    {
     "name": "stdout",
     "output_type": "stream",
     "text": [
      "Enter the num of elements\n",
      "5\n",
      "1\n",
      "2\n",
      "3\n",
      "4\n",
      "5\n",
      "The list elements are [1, 2, 3, 4, 5]\n",
      "Enter the Nth num2\n",
      "Sorted elements are [5, 4, 3, 2, 1]\n",
      "2 largest num is [5, 4]\n"
     ]
    }
   ],
   "source": [
    "x=int(input(\"Enter the num of elements\\n\"))\n",
    "lst=[]\n",
    "\n",
    "for i in range(x):\n",
    "    lst.append(int(input()))\n",
    "print(\"The list elements are\",lst)\n",
    "\n",
    "N=int(input(\"Enter the N num\\n\"))\n",
    "lst.sort(reverse=True)\n",
    "print(\"Sorted elements are\",lst)\n",
    "print(f\"{N} largest num is {lst[:N]}\")"
   ]
  },
  {
   "cell_type": "markdown",
   "id": "0e93e0c5",
   "metadata": {},
   "source": [
    "7. Write a Python program to print even numbers in a list?"
   ]
  },
  {
   "cell_type": "code",
   "execution_count": 30,
   "id": "5e051595",
   "metadata": {},
   "outputs": [
    {
     "name": "stdout",
     "output_type": "stream",
     "text": [
      "Enter the list elements6\n",
      "1\n",
      "2\n",
      "3\n",
      "4\n",
      "5\n",
      "6\n",
      "The list elements are [1, 2, 3, 4, 5, 6]\n",
      "0 is even num\n",
      "1 is odd\n",
      "2 is even num\n",
      "3 is odd\n",
      "4 is even num\n",
      "5 is odd\n"
     ]
    }
   ],
   "source": [
    "x=int(input(\"Enter the list elements\"))\n",
    "lst=[]\n",
    "\n",
    "for i in range(x):\n",
    "    lst.append(int(input()))\n",
    "print(\"The list elements are\",lst)\n",
    "\n",
    "for i in range(x):\n",
    "    if i%2==0:\n",
    "        print(f\"{i} is even num\")\n",
    "    else:\n",
    "        print(f\"{i} is odd\")"
   ]
  },
  {
   "cell_type": "markdown",
   "id": "aee7e199",
   "metadata": {},
   "source": [
    "8. Write a Python program to print odd numbers in a List?"
   ]
  },
  {
   "cell_type": "code",
   "execution_count": 31,
   "id": "2465dc8e",
   "metadata": {},
   "outputs": [
    {
     "name": "stdout",
     "output_type": "stream",
     "text": [
      "Enter the num of elements in list5\n",
      "1\n",
      "2\n",
      "3\n",
      "4\n",
      "5\n",
      "The list elements are [1, 2, 3, 4, 5]\n",
      "The odd elements are [1, 3, 5]\n"
     ]
    }
   ],
   "source": [
    "x=int(input(\"Enter the num of elements in list\"))\n",
    "lst=[]\n",
    "\n",
    "for i in range(x):\n",
    "    lst.append(int(input()))\n",
    "print(\"The list elements are\",lst)\n",
    "\n",
    "odd=[i for i in lst if i%2!=0]\n",
    "print(\"The odd elements are\", odd)"
   ]
  },
  {
   "cell_type": "markdown",
   "id": "1d152765",
   "metadata": {},
   "source": [
    "9. Write a Python program to Remove empty List from List?"
   ]
  },
  {
   "cell_type": "code",
   "execution_count": 33,
   "id": "767e8a71",
   "metadata": {},
   "outputs": [
    {
     "name": "stdout",
     "output_type": "stream",
     "text": [
      "Original list [1, 2, 3, [], 4, 5, [], 6, 7]\n",
      "corrected list: [1, 2, 3, 4, 5, 6, 7]\n"
     ]
    }
   ],
   "source": [
    "lst=[1,2,3,[],4,5,[],6,7]\n",
    "print(\"Original list\",lst)\n",
    "\n",
    "remove=[i for i in lst if i!=[]]\n",
    "print(\"corrected list:\", remove)"
   ]
  },
  {
   "cell_type": "markdown",
   "id": "d01122af",
   "metadata": {},
   "source": [
    "10. Write a Python program to Cloning or Copying a list?"
   ]
  },
  {
   "cell_type": "code",
   "execution_count": 34,
   "id": "9dc47eb9",
   "metadata": {},
   "outputs": [
    {
     "name": "stdout",
     "output_type": "stream",
     "text": [
      "Enter the lenth of your list : 5\n",
      "1\n",
      "2\n",
      "43\n",
      "4\n",
      "5\n",
      "The List is  [1, 2, 43, 4, 5]\n",
      "copied list: [1, 2, 43, 4, 5]\n"
     ]
    }
   ],
   "source": [
    "n = int(input(\"Enter the lenth of your list : \"))\n",
    "lst = []\n",
    "\n",
    "for i in range(n):\n",
    "    lst.append(int(input()))\n",
    "print(\"The List is \",lst)\n",
    "\n",
    "lst_copy=lst[:]\n",
    "print(\"copied list:\", lst_copy)"
   ]
  },
  {
   "cell_type": "markdown",
   "id": "bfd9e473",
   "metadata": {},
   "source": [
    "11. Write a Python program to Count occurrences of an element in a list?"
   ]
  },
  {
   "cell_type": "code",
   "execution_count": 37,
   "id": "e582e18e",
   "metadata": {},
   "outputs": [
    {
     "name": "stdout",
     "output_type": "stream",
     "text": [
      "Enter the num of elements5\n",
      "1\n",
      "2\n",
      "4\n",
      "4\n",
      "4\n",
      "List: [1, 2, 4, 4, 4]\n",
      "Enter the element to find occurance4\n",
      "4 has occured 3 times in the list\n"
     ]
    }
   ],
   "source": [
    "n=int(input(\"Enter the num of elements\"))\n",
    "lst=[]\n",
    "\n",
    "for i in range(n):\n",
    "    lst.append(int(input()))\n",
    "print(\"List:\" , lst)\n",
    "\n",
    "x=int(input(\"Enter the element to find occurance\"))\n",
    "print(f\"{x} has occured {lst.count(x)} times in the list\")"
   ]
  },
  {
   "cell_type": "code",
   "execution_count": null,
   "id": "0e4fbe1c",
   "metadata": {},
   "outputs": [],
   "source": []
  }
 ],
 "metadata": {
  "kernelspec": {
   "display_name": "Python 3 (ipykernel)",
   "language": "python",
   "name": "python3"
  },
  "language_info": {
   "codemirror_mode": {
    "name": "ipython",
    "version": 3
   },
   "file_extension": ".py",
   "mimetype": "text/x-python",
   "name": "python",
   "nbconvert_exporter": "python",
   "pygments_lexer": "ipython3",
   "version": "3.11.5"
  }
 },
 "nbformat": 4,
 "nbformat_minor": 5
}
