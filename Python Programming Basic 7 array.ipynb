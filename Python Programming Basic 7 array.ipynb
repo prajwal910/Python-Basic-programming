{
 "cells": [
  {
   "cell_type": "markdown",
   "id": "3f116dd5",
   "metadata": {},
   "source": [
    "1. Write a Python Program to find sum of array?"
   ]
  },
  {
   "cell_type": "code",
   "execution_count": 1,
   "id": "dcb9ec26",
   "metadata": {},
   "outputs": [
    {
     "data": {
      "text/plain": [
       "24"
      ]
     },
     "execution_count": 1,
     "metadata": {},
     "output_type": "execute_result"
    }
   ],
   "source": [
    "array=[1,2,3,4,5,9]\n",
    "sum=0\n",
    "\n",
    "for i in range(0, len(array)):\n",
    "    sum=sum+array[i]\n",
    "    \n",
    "sum"
   ]
  },
  {
   "cell_type": "markdown",
   "id": "ea858d5f",
   "metadata": {},
   "source": [
    "2. Write a Python Program to find largest element in an array?"
   ]
  },
  {
   "cell_type": "code",
   "execution_count": 4,
   "id": "25766c81",
   "metadata": {},
   "outputs": [
    {
     "name": "stdout",
     "output_type": "stream",
     "text": [
      "797\n",
      "largest element in an array is 797\n"
     ]
    }
   ],
   "source": [
    "array=[1,2,3,4,797,9]\n",
    "x=0\n",
    "\n",
    "for i in range(0,len(array)):\n",
    "    if x>array[i]:\n",
    "        print(x)\n",
    "    else:\n",
    "        x=array[i]\n",
    "    \n",
    "print(f\"largest element in an array is {x}\")"
   ]
  },
  {
   "cell_type": "markdown",
   "id": "03359ff5",
   "metadata": {},
   "source": [
    "3. Write a Python Program for array rotation?"
   ]
  },
  {
   "cell_type": "code",
   "execution_count": 12,
   "id": "ee9a7aa8",
   "metadata": {},
   "outputs": [
    {
     "name": "stdout",
     "output_type": "stream",
     "text": [
      "9\n",
      "77\n",
      "4\n",
      "3\n",
      "2\n"
     ]
    }
   ],
   "source": [
    "arr = [1,2,3,4,77,9]\n",
    "rot = []\n",
    "l = len(arr) -1\n",
    "for i in range(l , 0, -1):\n",
    "    print(arr[i])"
   ]
  },
  {
   "cell_type": "markdown",
   "id": "2a409a79",
   "metadata": {},
   "source": [
    "4. Write a Python Program to Split the array and add the first part to the end?"
   ]
  },
  {
   "cell_type": "code",
   "execution_count": 24,
   "id": "1cac6d50",
   "metadata": {},
   "outputs": [
    {
     "name": "stdout",
     "output_type": "stream",
     "text": [
      "Enter the list length\n",
      "5\n",
      "1\n",
      "2\n",
      "3\n",
      "4\n",
      "5\n",
      "[1, 2, 3, 4, 5]\n",
      "Enter the number of elements to split  : 2\n",
      "The List after split and add : [3, 4, 5, 1, 2]\n"
     ]
    }
   ],
   "source": [
    "l=int(input(\"Enter the list length\\n\"))\n",
    "array=[]\n",
    "split_array=[]\n",
    "\n",
    "for i in range(l):\n",
    "    array.append(int(input()))\n",
    "print(array)\n",
    "\n",
    "num = int(input(\"Enter the number of elements to split  : \"))\n",
    "\n",
    "split_array[:]=array[num:l]+array[:num]\n",
    "print(\"The List after split and add :\", split_array)"
   ]
  },
  {
   "cell_type": "markdown",
   "id": "88a51ccc",
   "metadata": {},
   "source": [
    "5. Write a Python Program to check if given array is Monotonic?"
   ]
  },
  {
   "cell_type": "code",
   "execution_count": 27,
   "id": "65ca17ff",
   "metadata": {},
   "outputs": [
    {
     "name": "stdout",
     "output_type": "stream",
     "text": [
      "Enter the lenth of your list : 5\n",
      "2\n",
      "7\n",
      "3\n",
      "8\n",
      "9\n",
      "The List is  [2, 7, 3, 8, 9]\n",
      "Not Monotonic\n"
     ]
    }
   ],
   "source": [
    "\n",
    "l = int(input(\"Enter the lenth of your list : \"))\n",
    "arr = []\n",
    "\n",
    "for i in range(l):\n",
    "    arr.append(int(input()))\n",
    "print(\"The List is \",arr)\n",
    "\n",
    "if all((arr[i] <= arr[i+1] for i in range(l-1)) or (arr[i] >= lst[i+1] for i in range(l-1))):\n",
    "    print(\"Monotonic\")\n",
    "else:\n",
    "    print(\"Not Monotonic\")"
   ]
  }
 ],
 "metadata": {
  "kernelspec": {
   "display_name": "Python 3 (ipykernel)",
   "language": "python",
   "name": "python3"
  },
  "language_info": {
   "codemirror_mode": {
    "name": "ipython",
    "version": 3
   },
   "file_extension": ".py",
   "mimetype": "text/x-python",
   "name": "python",
   "nbconvert_exporter": "python",
   "pygments_lexer": "ipython3",
   "version": "3.11.5"
  }
 },
 "nbformat": 4,
 "nbformat_minor": 5
}
