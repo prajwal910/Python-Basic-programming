{
 "cells": [
  {
   "cell_type": "markdown",
   "id": "09063c83",
   "metadata": {},
   "source": [
    "1. Write a Python program to check if the given number is a Disarium Number?"
   ]
  },
  {
   "cell_type": "code",
   "execution_count": 10,
   "id": "f79cfb5a",
   "metadata": {},
   "outputs": [
    {
     "name": "stdout",
     "output_type": "stream",
     "text": [
      "Enter the num89\n",
      "Disarium\n"
     ]
    }
   ],
   "source": [
    "def disarium(n):\n",
    "    sum=0\n",
    "    while(n>0):\n",
    "        l=len(str(n))\n",
    "        p=n%10\n",
    "        sum=sum+p**l\n",
    "        l=l-1\n",
    "        n=n//10\n",
    "    return sum\n",
    "    \n",
    "n=int(input(\"Enter the num\"))\n",
    "\n",
    "s=disarium(n)\n",
    "if s==n:\n",
    "    print(\"Disarium\")\n",
    "else:\n",
    "    print(\"Non disarium\")"
   ]
  },
  {
   "cell_type": "markdown",
   "id": "403b877b",
   "metadata": {},
   "source": [
    "2. Write a Python program to print all disarium numbers between 1 to 100?"
   ]
  },
  {
   "cell_type": "code",
   "execution_count": 11,
   "id": "9a9247f2",
   "metadata": {},
   "outputs": [
    {
     "name": "stdout",
     "output_type": "stream",
     "text": [
      "[1, 2, 3, 4, 5, 6, 7, 8, 9, 89]\n"
     ]
    }
   ],
   "source": [
    "def disarium(n):\n",
    "    sum=0\n",
    "    while(n>0):\n",
    "        l=len(str(n))\n",
    "        p=n%10\n",
    "        sum=sum+p**l\n",
    "        l=l-1\n",
    "        n=n//10\n",
    "    return sum\n",
    "    \n",
    "array=[]\n",
    "\n",
    "for i in range(1,101):\n",
    "    s=0\n",
    "    s=disarium(i)\n",
    "    \n",
    "    if s==i:\n",
    "        array.append(i)\n",
    "print(array)"
   ]
  },
  {
   "cell_type": "markdown",
   "id": "d3f74680",
   "metadata": {},
   "source": [
    "3. Write a Python program to check if the given number is Happy Number?"
   ]
  },
  {
   "cell_type": "code",
   "execution_count": 22,
   "id": "fb8084ba",
   "metadata": {},
   "outputs": [
    {
     "name": "stdout",
     "output_type": "stream",
     "text": [
      "Enter the num\n",
      "89\n",
      "89 is a Non-Happy num\n"
     ]
    }
   ],
   "source": [
    "def happy(n):\n",
    "    sum=0\n",
    "    while(n>0):\n",
    "        digit=n%10\n",
    "        sum=sum+digit**2\n",
    "        n=n//10\n",
    "    return sum\n",
    "\n",
    "n=int(input(\"Enter the num\\n\"))\n",
    "\n",
    "result=happy(n)\n",
    "\n",
    "\n",
    "while(result !=1 and result !=4):\n",
    "    result=happy(result)\n",
    "    \n",
    "if result==1:\n",
    "    print(f\"{n} is Happy num\")\n",
    "else:\n",
    "    print(f\"{n} is a Non-Happy num\")\n",
    "    "
   ]
  },
  {
   "cell_type": "markdown",
   "id": "fd7898b1",
   "metadata": {},
   "source": [
    "4. Write a Python program to print all happy numbers between 1 and 100?"
   ]
  },
  {
   "cell_type": "code",
   "execution_count": 9,
   "id": "b2142ba7",
   "metadata": {},
   "outputs": [
    {
     "name": "stdout",
     "output_type": "stream",
     "text": [
      "[1, 7, 10, 13, 19, 23, 28, 31, 32, 44, 49, 68, 70, 79, 82, 86, 91, 94, 97, 100]\n"
     ]
    }
   ],
   "source": [
    "def happy(n):\n",
    "    sum=0\n",
    "    while(n>0):\n",
    "        digit=n%10\n",
    "        sum=sum+digit**2\n",
    "        n=n//10\n",
    "    return sum\n",
    "\n",
    "array=[]\n",
    "\n",
    "for i in range(1,101):\n",
    "    s=i\n",
    "    \n",
    "    \n",
    "    while(s!=1 and s!=4):\n",
    "        s=happy(s)\n",
    "    if s==1:\n",
    "        array.append(i)\n",
    "            \n",
    "print(array)  \n",
    "            "
   ]
  },
  {
   "cell_type": "markdown",
   "id": "25d3d9ee",
   "metadata": {},
   "source": [
    "5. Write a Python program to determine whether the given number is a Harshad Number?"
   ]
  },
  {
   "cell_type": "code",
   "execution_count": 10,
   "id": "94e25078",
   "metadata": {},
   "outputs": [
    {
     "name": "stdout",
     "output_type": "stream",
     "text": [
      "Enter no. :5\n",
      "5 Is a Harshad number\n"
     ]
    }
   ],
   "source": [
    "def digsum(num):\n",
    "    sum = 0\n",
    "    while(num>0):\n",
    "        dig = num%10\n",
    "        sum= sum + dig      \n",
    "        num = num//10\n",
    "    return sum\n",
    "\n",
    "num = int(input(\"Enter no. :\"))\n",
    "sum = digsum(num)\n",
    "\n",
    "if num % sum == 0:\n",
    "    print(num,\"Is a Harshad number\")\n",
    "else:\n",
    "    print(num,\"Is not a Harshad number\")"
   ]
  },
  {
   "cell_type": "markdown",
   "id": "78e511e1",
   "metadata": {},
   "source": [
    "6. Write a Python program to print all pronic numbers between 1 and 100?"
   ]
  },
  {
   "cell_type": "code",
   "execution_count": 11,
   "id": "de017f87",
   "metadata": {},
   "outputs": [
    {
     "name": "stdout",
     "output_type": "stream",
     "text": [
      "Pronic numbers in range 1 to 100\n",
      "[2, 6, 12, 20, 30, 42, 56, 72, 90]\n"
     ]
    }
   ],
   "source": [
    "\n",
    "def PronicNo(num):\n",
    "    Pronic = False\n",
    "    for i in range(1,num+1):\n",
    "        if i*(i+1) == num:\n",
    "            Pronic = True\n",
    "            break\n",
    "    return Pronic\n",
    "\n",
    "print(\"Pronic numbers in range 1 to 100\")\n",
    "pronicno = []\n",
    "for i in range(1,101):\n",
    "    if PronicNo(i):\n",
    "        pronicno.append(i)\n",
    "print(pronicno)"
   ]
  },
  {
   "cell_type": "code",
   "execution_count": null,
   "id": "3b7498b4",
   "metadata": {},
   "outputs": [],
   "source": []
  }
 ],
 "metadata": {
  "kernelspec": {
   "display_name": "Python 3 (ipykernel)",
   "language": "python",
   "name": "python3"
  },
  "language_info": {
   "codemirror_mode": {
    "name": "ipython",
    "version": 3
   },
   "file_extension": ".py",
   "mimetype": "text/x-python",
   "name": "python",
   "nbconvert_exporter": "python",
   "pygments_lexer": "ipython3",
   "version": "3.11.5"
  }
 },
 "nbformat": 4,
 "nbformat_minor": 5
}
