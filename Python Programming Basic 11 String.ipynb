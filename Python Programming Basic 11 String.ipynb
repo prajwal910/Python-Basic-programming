{
 "cells": [
  {
   "cell_type": "markdown",
   "id": "6fba8796",
   "metadata": {},
   "source": [
    "1. Write a Python program to find words which are greater than given length k?"
   ]
  },
  {
   "cell_type": "code",
   "execution_count": 3,
   "id": "79ffd438",
   "metadata": {},
   "outputs": [
    {
     "name": "stdout",
     "output_type": "stream",
     "text": [
      "['program', 'greater']\n"
     ]
    }
   ],
   "source": [
    "def length_check(k,sent):\n",
    "    string=[]\n",
    "    text=sent.split(\" \")\n",
    "    \n",
    "    for i in text:\n",
    "        if len(i)>k:\n",
    "            string.append(i)\n",
    "    return string\n",
    "\n",
    "k=6\n",
    "sent=\"Write a Python program to find words which are greater than given length k\"\n",
    "print(length_check(k,sent))"
   ]
  },
  {
   "cell_type": "markdown",
   "id": "8e6e5085",
   "metadata": {},
   "source": [
    "2. Write a Python program for removing i-th character from a string?"
   ]
  },
  {
   "cell_type": "code",
   "execution_count": 16,
   "id": "9eacab39",
   "metadata": {},
   "outputs": [
    {
     "name": "stdout",
     "output_type": "stream",
     "text": [
      "Hllo\n"
     ]
    }
   ],
   "source": [
    "def remove(k,string):\n",
    "    #text=len(string)\n",
    "    \n",
    "    for i in range(len(string)):\n",
    "        if i==k:\n",
    "            string=string.replace(string[k], \"\",1)\n",
    "    return string\n",
    "\n",
    "string=\"Hello\"\n",
    "k=2\n",
    "print(remove(k-1,string))"
   ]
  },
  {
   "cell_type": "markdown",
   "id": "7cce0127",
   "metadata": {},
   "source": [
    "3. Write a Python program to split and join a string?"
   ]
  },
  {
   "cell_type": "code",
   "execution_count": 21,
   "id": "aaddac2c",
   "metadata": {},
   "outputs": [
    {
     "name": "stdout",
     "output_type": "stream",
     "text": [
      "['Write', 'a', 'Python', 'program', 'to', 'split', 'and', 'join', 'a', 'string']\n",
      "Write_a_Python_program_to_split_and_join_a_string\n"
     ]
    }
   ],
   "source": [
    "string=\"Write a Python program to split and join a string\"\n",
    "\n",
    "print(string.split(\" \"))\n",
    "print(\"_\".join(string.split()))"
   ]
  },
  {
   "cell_type": "markdown",
   "id": "7016a5db",
   "metadata": {},
   "source": [
    "4. Write a Python to check if a given string is binary string or not?"
   ]
  },
  {
   "cell_type": "code",
   "execution_count": 30,
   "id": "3067ace7",
   "metadata": {},
   "outputs": [
    {
     "name": "stdout",
     "output_type": "stream",
     "text": [
      "Enter the num1010\n",
      "Binary\n"
     ]
    }
   ],
   "source": [
    "string=input(\"Enter the num\")\n",
    "binary=\"01\"\n",
    "flag=0\n",
    "for i in string:\n",
    "    if i not in binary:\n",
    "        flag=1\n",
    "        break\n",
    "        \n",
    "    else:\n",
    "        pass\n",
    "    \n",
    "if flag==1:\n",
    "    print(\"Non-binary\")\n",
    "else:\n",
    "    print(\"Binary\")"
   ]
  },
  {
   "cell_type": "markdown",
   "id": "98129bf2",
   "metadata": {},
   "source": [
    "5. Write a Python program to find uncommon words from two Strings?"
   ]
  },
  {
   "cell_type": "code",
   "execution_count": 4,
   "id": "e8ad0140",
   "metadata": {},
   "outputs": [
    {
     "name": "stdout",
     "output_type": "stream",
     "text": [
      "Enter the string a : one is two\n",
      "Enter the string b : one is three\n",
      "The list of un Common words :  ['two', 'three']\n"
     ]
    }
   ],
   "source": [
    "def uncommon(a,b):\n",
    "    lst1= a.split()\n",
    "    lst2= b.split()\n",
    "    \n",
    "    array=[]\n",
    "    for i in lst1:\n",
    "        if i not in lst2:\n",
    "            array.append(i)\n",
    "    \n",
    "    for j in lst2:\n",
    "        if j not in lst1:\n",
    "            array.append(j)\n",
    "    return array\n",
    "\n",
    "a = input(\"Enter the string a : \").lower()\n",
    "b = input(\"Enter the string b : \").lower()\n",
    "\n",
    "print(\"The list of un Common words : \", uncommon(a,b))"
   ]
  },
  {
   "cell_type": "markdown",
   "id": "41d7465d",
   "metadata": {},
   "source": [
    "6. Write a Python to find all duplicate characters in string?"
   ]
  },
  {
   "cell_type": "code",
   "execution_count": 8,
   "id": "7b6911a0",
   "metadata": {},
   "outputs": [
    {
     "name": "stdout",
     "output_type": "stream",
     "text": [
      "Enter the string: find all duplicate \n"
     ]
    },
    {
     "data": {
      "text/plain": [
       "['i', 'd', ' ', 'a', 'l']"
      ]
     },
     "execution_count": 8,
     "metadata": {},
     "output_type": "execute_result"
    }
   ],
   "source": [
    "string=input(\"Enter the string: \").lower()\n",
    "duplicate=[]\n",
    "\n",
    "for i in string:\n",
    "    if string.count(i)>1:\n",
    "        if i not in duplicate:\n",
    "            duplicate.append(i)\n",
    "            \n",
    "duplicate\n"
   ]
  },
  {
   "cell_type": "markdown",
   "id": "47f36049",
   "metadata": {},
   "source": [
    "7. Write a Python Program to check if a string contains any special character?"
   ]
  },
  {
   "cell_type": "code",
   "execution_count": 11,
   "id": "d66722c8",
   "metadata": {},
   "outputs": [
    {
     "name": "stdout",
     "output_type": "stream",
     "text": [
      "Enter the sentencei am !@##$%\n",
      "The special characters are  ['!@##$%']\n"
     ]
    }
   ],
   "source": [
    "punctuations = '''!()-[]{};:'\"\\,<>./?@#$%^&*_~'''\n",
    "string=input(\"Enter the sentence\")\n",
    "\n",
    "empty=\"\"\n",
    "\n",
    "for i in string:\n",
    "    if i in punctuations:\n",
    "        empty+=i\n",
    "\n",
    "print(\"The special characters are \", empty)"
   ]
  },
  {
   "cell_type": "code",
   "execution_count": null,
   "id": "781d1274",
   "metadata": {},
   "outputs": [],
   "source": []
  }
 ],
 "metadata": {
  "kernelspec": {
   "display_name": "Python 3 (ipykernel)",
   "language": "python",
   "name": "python3"
  },
  "language_info": {
   "codemirror_mode": {
    "name": "ipython",
    "version": 3
   },
   "file_extension": ".py",
   "mimetype": "text/x-python",
   "name": "python",
   "nbconvert_exporter": "python",
   "pygments_lexer": "ipython3",
   "version": "3.11.5"
  }
 },
 "nbformat": 4,
 "nbformat_minor": 5
}
