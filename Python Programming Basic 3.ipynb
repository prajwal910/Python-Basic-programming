{
 "cells": [
  {
   "cell_type": "markdown",
   "id": "9b373b55",
   "metadata": {},
   "source": [
    "1. Write a Python Program to Check if a Number is Positive, Negative or Zero?"
   ]
  },
  {
   "cell_type": "code",
   "execution_count": 2,
   "id": "5297781f",
   "metadata": {},
   "outputs": [
    {
     "name": "stdout",
     "output_type": "stream",
     "text": [
      "Enter the num2\n",
      "Entered num is positive\n"
     ]
    }
   ],
   "source": [
    "x=int(input(\"Enter the num\"))\n",
    "\n",
    "if x>0:\n",
    "    print(f\"Entered num is positive\")\n",
    "elif x==0:\n",
    "    print(f\"Entered num is Zero\")\n",
    "else:\n",
    "    print(f\"Entered num is negative\")"
   ]
  },
  {
   "cell_type": "markdown",
   "id": "4c5812b2",
   "metadata": {},
   "source": [
    "2. Write a Python Program to Check if a Number is Odd or Even?"
   ]
  },
  {
   "cell_type": "code",
   "execution_count": 3,
   "id": "7d93e74f",
   "metadata": {},
   "outputs": [
    {
     "name": "stdout",
     "output_type": "stream",
     "text": [
      "Enter the num5\n",
      "Entered num is odd\n"
     ]
    }
   ],
   "source": [
    "x=int(input(\"Enter the num\"))\n",
    "\n",
    "if x%2==0:\n",
    "    print(\"Entered num is even\")\n",
    "else:\n",
    "    print(\"Entered num is odd\")"
   ]
  },
  {
   "cell_type": "markdown",
   "id": "e4ea7907",
   "metadata": {},
   "source": [
    "3. Write a Python Program to Check Leap Year?"
   ]
  },
  {
   "cell_type": "code",
   "execution_count": 5,
   "id": "4e909ff3",
   "metadata": {},
   "outputs": [
    {
     "name": "stdout",
     "output_type": "stream",
     "text": [
      "Enter the year2001\n",
      "Non leap year\n"
     ]
    }
   ],
   "source": [
    "a=int(input(\"Enter the year\"))\n",
    "\n",
    "if a%4==0:\n",
    "    print(\"Leap year\")\n",
    "else:\n",
    "    print(\"Non leap year\")"
   ]
  },
  {
   "cell_type": "markdown",
   "id": "a0fe9569",
   "metadata": {},
   "source": [
    "4. Write a Python Program to Check Prime Number?"
   ]
  },
  {
   "cell_type": "code",
   "execution_count": 10,
   "id": "9503f7a3",
   "metadata": {},
   "outputs": [
    {
     "name": "stdout",
     "output_type": "stream",
     "text": [
      "Enter the Num \n",
      "6\n",
      "It is a Non Prime num\n"
     ]
    }
   ],
   "source": [
    "a=int(input(\"Enter the Num \\n\"))\n",
    "\n",
    "for i in range(2,a):\n",
    "    if a%i==0:\n",
    "        print(\"It is a Non Prime num\")\n",
    "        break\n",
    "    else:\n",
    "        print(\"Prime num\")"
   ]
  },
  {
   "cell_type": "markdown",
   "id": "913379e9",
   "metadata": {},
   "source": [
    "5. Write a Python Program to Print all Prime Numbers in an Interval of 1-10000?"
   ]
  },
  {
   "cell_type": "code",
   "execution_count": 15,
   "id": "5c51ba86",
   "metadata": {},
   "outputs": [
    {
     "name": "stdout",
     "output_type": "stream",
     "text": [
      "Enter a number1: 1\n",
      "Enter a number2: 10\n",
      "3: Prime num\n",
      "4: It is a Non Prime num\n",
      "5: Prime num\n",
      "6: It is a Non Prime num\n",
      "7: Prime num\n",
      "8: It is a Non Prime num\n",
      "9: Prime num\n"
     ]
    }
   ],
   "source": [
    "x = int(input(\"Enter a number1: \")) \n",
    "y = int(input(\"Enter a number2: \")) \n",
    "for num in range(x,y):\n",
    "    if num>1:\n",
    "        for i in range(2,num):\n",
    "            if num%i==0:\n",
    "                print(f\"{num}: It is a Non Prime num\")\n",
    "                break\n",
    "            else:\n",
    "                print(f\"{num}: Prime num\")\n",
    "                break\n",
    "            "
   ]
  },
  {
   "cell_type": "code",
   "execution_count": null,
   "id": "9df4046b",
   "metadata": {},
   "outputs": [],
   "source": []
  }
 ],
 "metadata": {
  "kernelspec": {
   "display_name": "Python 3 (ipykernel)",
   "language": "python",
   "name": "python3"
  },
  "language_info": {
   "codemirror_mode": {
    "name": "ipython",
    "version": 3
   },
   "file_extension": ".py",
   "mimetype": "text/x-python",
   "name": "python",
   "nbconvert_exporter": "python",
   "pygments_lexer": "ipython3",
   "version": "3.11.5"
  }
 },
 "nbformat": 4,
 "nbformat_minor": 5
}
